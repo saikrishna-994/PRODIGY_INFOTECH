{
 "cells": [
  {
   "cell_type": "code",
   "execution_count": null,
   "id": "b8065080",
   "metadata": {},
   "outputs": [],
   "source": [
    "#  Importing required libraries\n",
    "import pandas as pd\n",
    "import numpy as np\n",
    "import seaborn as sns\n",
    "import matplotlib.pyplot as plt\n",
    "\n",
    "from sklearn.model_selection import train_test_split\n",
    "from sklearn.linear_model import LinearRegression\n",
    "from sklearn.metrics import mean_absolute_error, mean_squared_error, r2_score\n",
    "\n",
    "# Set visualization style\n",
    "sns.set(style=\"whitegrid\")\n"
   ]
  },
  {
   "cell_type": "code",
   "execution_count": null,
   "id": "b8fc3d0e",
   "metadata": {},
   "outputs": [],
   "source": [
    "#  Load the dataset\n",
    "df = pd.read_csv('train.csv')\n",
    "print(\"Dataset loaded. Shape:\", df.shape)\n",
    "df.head()\n"
   ]
  },
  {
   "cell_type": "code",
   "execution_count": null,
   "id": "2e6d6f5f",
   "metadata": {},
   "outputs": [],
   "source": [
    "#  Handling missing values for both numerical and categorical columns\n",
    "# Note: test_data is cloned from df to demonstrate on both\n",
    "test_data = df.copy()\n",
    "\n",
    "for column in df.columns:\n",
    "    if df[column].dtype == 'object':\n",
    "        # Fill missing categorical values with mode\n",
    "        mode_val = df[column].mode()[0]\n",
    "        df[column] = df[column].fillna(mode_val)\n",
    "        test_data[column] = test_data[column].fillna(mode_val)\n",
    "    else:\n",
    "        # Fill missing numerical values with mean\n",
    "        mean_val = df[column].mean()\n",
    "        df[column] = df[column].fillna(mean_val)\n",
    "        test_data[column] = test_data[column].fillna(mean_val)\n"
   ]
  },
  {
   "cell_type": "code",
   "execution_count": null,
   "id": "95b673d6",
   "metadata": {},
   "outputs": [],
   "source": [
    "#  Selecting relevant features for predicting house prices\n",
    "features = ['GrLivArea', 'TotalBsmtSF', 'GarageArea', 'OverallQual', 'YearBuilt']\n",
    "target = 'SalePrice'\n",
    "\n",
    "X = df[features]\n",
    "y = df[target]\n"
   ]
  },
  {
   "cell_type": "code",
   "execution_count": null,
   "id": "f4f9f21b",
   "metadata": {},
   "outputs": [],
   "source": [
    "#  Splitting the dataset into training and validation sets (80/20 split)\n",
    "X_train, X_val, y_train, y_val = train_test_split(X, y, test_size=0.2, random_state=42)\n",
    "print(\"Training set size:\", X_train.shape)\n",
    "print(\"Validation set size:\", X_val.shape)\n"
   ]
  },
  {
   "cell_type": "code",
   "execution_count": null,
   "id": "9574a92c",
   "metadata": {},
   "outputs": [],
   "source": [
    "#  Training the Linear Regression model\n",
    "model = LinearRegression()\n",
    "model.fit(X_train, y_train)\n",
    "\n",
    "#  Making predictions on the validation set\n",
    "y_pred = model.predict(X_val)\n"
   ]
  },
  {
   "cell_type": "code",
   "execution_count": null,
   "id": "a9ec6d21",
   "metadata": {},
   "outputs": [],
   "source": [
    "#  Evaluating model performance\n",
    "mae = mean_absolute_error(y_val, y_pred)\n",
    "mse = mean_squared_error(y_val, y_pred)\n",
    "r2 = r2_score(y_val, y_pred)\n",
    "\n",
    "print(f\"Mean Absolute Error (MAE): {mae:.2f}\")\n",
    "print(f\"Mean Squared Error (MSE): {mse:.2f}\")\n",
    "print(f\"R-squared (R²): {r2:.4f}\")\n"
   ]
  },
  {
   "cell_type": "code",
   "execution_count": null,
   "id": "052e2f5e",
   "metadata": {},
   "outputs": [],
   "source": [
    "#  Plot: Actual vs Predicted Sale Prices\n",
    "plt.figure(figsize=(8,6))\n",
    "plt.scatter(y_pred, y_val, alpha=0.6)\n",
    "plt.plot([y_val.min(), y_val.max()], [y_val.min(), y_val.max()], 'r--')\n",
    "plt.xlabel(\"Predicted Sale Price\")\n",
    "plt.ylabel(\"Actual Sale Price\")\n",
    "plt.title(\"Actual vs Predicted Sale Price\")\n",
    "plt.tight_layout()\n",
    "plt.show()\n"
   ]
  },
  {
   "cell_type": "code",
   "execution_count": null,
   "id": "d3fea9d4",
   "metadata": {},
   "outputs": [],
   "source": [
    "#  Residual Analysis\n",
    "residuals = y_val - y_pred\n",
    "\n",
    "# Residual scatter plot\n",
    "plt.figure(figsize=(8,6))\n",
    "plt.scatter(y_pred, residuals, alpha=0.5)\n",
    "plt.axhline(y=0, color='red', linestyle='--')\n",
    "plt.xlabel(\"Predicted Sale Price\")\n",
    "plt.ylabel(\"Residuals\")\n",
    "plt.title(\"Residual Plot\")\n",
    "plt.tight_layout()\n",
    "plt.show()\n",
    "\n",
    "# Residual distribution\n",
    "plt.figure(figsize=(8,6))\n",
    "sns.histplot(residuals, kde=True)\n",
    "plt.xlabel(\"Residuals\")\n",
    "plt.title(\"Distribution of Residuals\")\n",
    "plt.tight_layout()\n",
    "plt.show()\n"
   ]
  },
  {
   "cell_type": "code",
   "execution_count": null,
   "id": "890105ee",
   "metadata": {},
   "outputs": [],
   "source": [
    "#  Display model coefficients to interpret feature impact\n",
    "coef_df = pd.DataFrame(model.coef_, index=features, columns=['Coefficient'])\n",
    "print(\"Linear Regression Coefficients:\")\n",
    "print(coef_df)\n"
   ]
  }
 ],
 "metadata": {},
 "nbformat": 4,
 "nbformat_minor": 5
}
